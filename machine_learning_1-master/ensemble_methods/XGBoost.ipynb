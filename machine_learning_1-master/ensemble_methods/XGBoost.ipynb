{
  "nbformat": 4,
  "nbformat_minor": 0,
  "metadata": {
    "kernelspec": {
      "display_name": "Python 3",
      "language": "python",
      "name": "python3"
    },
    "language_info": {
      "codemirror_mode": {
        "name": "ipython",
        "version": 3
      },
      "file_extension": ".py",
      "mimetype": "text/x-python",
      "name": "python",
      "nbconvert_exporter": "python",
      "pygments_lexer": "ipython3",
      "version": "3.7.6"
    },
    "colab": {
      "name": "Copy of Gradient_boosting_and_XGBoost.ipynb",
      "provenance": [],
      "collapsed_sections": []
    }
  },
  "cells": [
    {
      "cell_type": "code",
      "metadata": {
        "id": "fx-mUilhMnsA"
      },
      "source": [
        "!git clone https://github.com/s7s/machine_learning_1.git\n",
        "%cd  machine_learning_1/ensemble_methods"
      ],
      "execution_count": null,
      "outputs": []
    },
    {
      "cell_type": "code",
      "metadata": {
        "id": "HaWhXwm9Mkqj"
      },
      "source": [
        "import numpy as np\n",
        "import pandas as pd\n",
        "from sklearn.tree import DecisionTreeRegressor\n",
        "from sklearn.ensemble import GradientBoostingRegressor\n",
        "import utils\n",
        "import sklearn\n",
        "from sklearn import tree\n",
        "import matplotlib.pyplot as plt"
      ],
      "execution_count": null,
      "outputs": []
    },
    {
      "cell_type": "code",
      "metadata": {
        "id": "KANoR2I3Mkql"
      },
      "source": [
        "features = np.array([[10],[20],[30],[40],[50],[60],[70],[80]])\n",
        "labels = np.array([7,5,7,1,2,1,5,4])"
      ],
      "execution_count": null,
      "outputs": []
    },
    {
      "cell_type": "code",
      "metadata": {
        "id": "v28Dehs2Mkql"
      },
      "source": [
        "plt.scatter(features, labels)\n",
        "plt.xlabel(\"Age\")\n",
        "plt.ylabel(\"Days per week\")\n",
        "plt.show()"
      ],
      "execution_count": null,
      "outputs": []
    },
    {
      "cell_type": "markdown",
      "metadata": {
        "id": "2E9cJJ99Mkqt"
      },
      "source": [
        "# XGBoost"
      ]
    },
    {
      "cell_type": "code",
      "metadata": {
        "id": "hNLAgrnOMkqt"
      },
      "source": [
        "import xgboost\n",
        "from xgboost import XGBRegressor\n",
        "# use xgboost with [ n_estimators=3, max_depth=2, reg_lambda=0, min_split_loss=1, learning_rate=0.7]\n",
        "xgboost_regressor = \n",
        "\n",
        "xgboost_regressor.score(features, labels)"
      ],
      "execution_count": null,
      "outputs": []
    },
    {
      "cell_type": "code",
      "metadata": {
        "id": "XtNSs6JXMkqt"
      },
      "source": [
        "utils.plot_regressor(xgboost_regressor, features, labels)"
      ],
      "execution_count": null,
      "outputs": []
    },
    {
      "cell_type": "code",
      "metadata": {
        "id": "Wdc2_huSMkqu"
      },
      "source": [
        "xgboost_regressor.predict(features)"
      ],
      "execution_count": null,
      "outputs": []
    }
  ]
}