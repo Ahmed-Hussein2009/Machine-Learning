{
  "nbformat": 4,
  "nbformat_minor": 0,
  "metadata": {
    "kernelspec": {
      "display_name": "Python 3",
      "language": "python",
      "name": "python3"
    },
    "language_info": {
      "codemirror_mode": {
        "name": "ipython",
        "version": 3
      },
      "file_extension": ".py",
      "mimetype": "text/x-python",
      "name": "python",
      "nbconvert_exporter": "python",
      "pygments_lexer": "ipython3",
      "version": "3.7.6"
    },
    "colab": {
      "name": "Copy of Gradient_boosting_and_XGBoost.ipynb",
      "provenance": []
    }
  },
  "cells": [
    {
      "cell_type": "code",
      "metadata": {
        "id": "fx-mUilhMnsA",
        "colab": {
          "base_uri": "https://localhost:8080/"
        },
        "outputId": "5343e14e-bf1d-410e-ef07-44dcda3da297"
      },
      "source": [
        "!git clone https://github.com/s7s/machine_learning_1.git\n",
        "%cd  machine_learning_1/ensemble_methods"
      ],
      "execution_count": 1,
      "outputs": [
        {
          "output_type": "stream",
          "text": [
            "Cloning into 'machine_learning_1'...\n",
            "remote: Enumerating objects: 153, done.\u001b[K\n",
            "remote: Counting objects: 100% (153/153), done.\u001b[K\n",
            "remote: Compressing objects: 100% (113/113), done.\u001b[K\n",
            "remote: Total 153 (delta 66), reused 124 (delta 37), pack-reused 0\u001b[K\n",
            "Receiving objects: 100% (153/153), 33.98 MiB | 16.31 MiB/s, done.\n",
            "Resolving deltas: 100% (66/66), done.\n",
            "/content/machine_learning_1/ensemble_methods\n"
          ],
          "name": "stdout"
        }
      ]
    },
    {
      "cell_type": "code",
      "metadata": {
        "id": "HaWhXwm9Mkqj"
      },
      "source": [
        "import numpy as np\n",
        "import pandas as pd\n",
        "from sklearn.tree import DecisionTreeRegressor\n",
        "from sklearn.ensemble import GradientBoostingRegressor\n",
        "import utils\n",
        "import sklearn\n",
        "from sklearn import tree\n",
        "import matplotlib.pyplot as plt"
      ],
      "execution_count": 2,
      "outputs": []
    },
    {
      "cell_type": "code",
      "metadata": {
        "id": "KANoR2I3Mkql"
      },
      "source": [
        "features = np.array([[10],[20],[30],[40],[50],[60],[70],[80]])\n",
        "labels = np.array([7,5,7,1,2,1,5,4])"
      ],
      "execution_count": 3,
      "outputs": []
    },
    {
      "cell_type": "code",
      "metadata": {
        "id": "v28Dehs2Mkql",
        "colab": {
          "base_uri": "https://localhost:8080/",
          "height": 279
        },
        "outputId": "08b0c7d2-5342-4e5d-fe3e-92d98a820f2b"
      },
      "source": [
        "plt.scatter(features, labels)\n",
        "plt.xlabel(\"Age\")\n",
        "plt.ylabel(\"Days per week\")\n",
        "plt.show()"
      ],
      "execution_count": 4,
      "outputs": [
        {
          "output_type": "display_data",
          "data": {
            "image/png": "[encoded data removed]",
            "text/plain": [
              "<Figure size 432x288 with 1 Axes>"
            ]
          },
          "metadata": {
            "needs_background": "light"
          }
        }
      ]
    },
    {
      "cell_type": "markdown",
      "metadata": {
        "id": "2E9cJJ99Mkqt"
      },
      "source": [
        "# XGBoost"
      ]
    },
    {
      "cell_type": "code",
      "metadata": {
        "id": "hNLAgrnOMkqt",
        "colab": {
          "base_uri": "https://localhost:8080/"
        },
        "outputId": "14735272-9e49-42a6-da64-024f8c0be91c"
      },
      "source": [
        "import xgboost\n",
        "from xgboost import XGBRegressor\n",
        "xgboost_regressor = XGBRegressor(random_state=0,\n",
        "                             n_estimators=3,\n",
        "                             max_depth=2,\n",
        "                             reg_lambda=0,\n",
        "                             min_split_loss=1,\n",
        "                             learning_rate=0.7)\n",
        "xgboost_regressor.fit(features, labels)\n",
        "xgboost_regressor.score(features, labels)"
      ],
      "execution_count": 5,
      "outputs": [
        {
          "output_type": "stream",
          "text": [
            "[20:55:24] WARNING: /workspace/src/objective/regression_obj.cu:152: reg:linear is now deprecated in favor of reg:squarederror.\n"
          ],
          "name": "stdout"
        },
        {
          "output_type": "execute_result",
          "data": {
            "text/plain": [
              "0.9438806326863372"
            ]
          },
          "metadata": {},
          "execution_count": 5
        }
      ]
    },
    {
      "cell_type": "code",
      "metadata": {
        "id": "XtNSs6JXMkqt",
        "colab": {
          "base_uri": "https://localhost:8080/",
          "height": 279
        },
        "outputId": "5c48af56-fbb4-4946-e503-c302ad535276"
      },
      "source": [
        "utils.plot_regressor(xgboost_regressor, features, labels)"
      ],
      "execution_count": 6,
      "outputs": [
        {
          "output_type": "display_data",
          "data": {
            "image/png": "[encoded data removed]",
            "text/plain": [
              "<Figure size 432x288 with 1 Axes>"
            ]
          },
          "metadata": {
            "needs_background": "light"
          }
        }
      ]
    },
    {
      "cell_type": "code",
      "metadata": {
        "id": "Wdc2_huSMkqu",
        "colab": {
          "base_uri": "https://localhost:8080/"
        },
        "outputId": "f024134f-ec41-48e7-bd57-36c48dd44d55"
      },
      "source": [
        "xgboost_regressor.predict(features)"
      ],
      "execution_count": 7,
      "outputs": [
        {
          "output_type": "execute_result",
          "data": {
            "text/plain": [
              "array([6.6425   , 5.2425   , 6.057611 , 1.5076112, 1.5076112, 1.5076112,\n",
              "       4.3892775, 4.3892775], dtype=float32)"
            ]
          },
          "metadata": {},
          "execution_count": 7
        }
      ]
    }
  ]
}