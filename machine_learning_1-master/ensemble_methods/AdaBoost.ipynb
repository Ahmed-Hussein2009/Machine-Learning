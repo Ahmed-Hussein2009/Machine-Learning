{
  "nbformat": 4,
  "nbformat_minor": 0,
  "metadata": {
    "kernelspec": {
      "display_name": "Python 3",
      "language": "python",
      "name": "python3"
    },
    "language_info": {
      "codemirror_mode": {
        "name": "ipython",
        "version": 3
      },
      "file_extension": ".py",
      "mimetype": "text/x-python",
      "name": "python",
      "nbconvert_exporter": "python",
      "pygments_lexer": "ipython3",
      "version": "3.7.6"
    },
    "colab": {
      "name": "Copy of Random_forests_and_AdaBoost.ipynb",
      "provenance": [],
      "collapsed_sections": []
    }
  },
  "cells": [
    {
      "cell_type": "markdown",
      "metadata": {
        "id": "1qSXNsBGty9b"
      },
      "source": [
        "# Spam dataset with ensemble methods"
      ]
    },
    {
      "cell_type": "code",
      "metadata": {
        "id": "7sBtayPXt882"
      },
      "source": [
        "!git clone https://github.com/s7s/machine_learning_1.git\n",
        "%cd  machine_learning_1/ensemble_methods"
      ],
      "execution_count": null,
      "outputs": []
    },
    {
      "cell_type": "code",
      "metadata": {
        "id": "yume2JWYty9d"
      },
      "source": [
        "import pandas as pd\n",
        "import numpy as np\n",
        "from matplotlib import pyplot as plt\n",
        "import utils\n",
        "\n",
        "from sklearn import tree\n",
        "\n",
        "np.random.seed(0)"
      ],
      "execution_count": null,
      "outputs": []
    },
    {
      "cell_type": "markdown",
      "metadata": {
        "id": "Q6l0-RrSty9e"
      },
      "source": [
        "# The spam email dataset"
      ]
    },
    {
      "cell_type": "code",
      "metadata": {
        "id": "eURT6m3dty9f"
      },
      "source": [
        "emails = np.array([\n",
        "    [7,8,1],\n",
        "    [3,2,0],\n",
        "    [8,4,1],\n",
        "    [2,6,0],\n",
        "    [6,5,1],\n",
        "    [9,6,1],\n",
        "    [8,5,0],\n",
        "    [7,1,0],\n",
        "    [1,9,1],\n",
        "    [4,7,0],\n",
        "    [1,3,0],\n",
        "    [3,10,1],\n",
        "    [2,2,1],\n",
        "    [9,3,0],\n",
        "    [5,3,0],\n",
        "    [10,1,0],\n",
        "    [5,9,1],\n",
        "    [10,8,1],\n",
        "])\n",
        "spam_dataset = pd.DataFrame(data=emails, columns=[\"Lottery\", \"Sale\", \"Spam\"])\n",
        "spam_dataset"
      ],
      "execution_count": null,
      "outputs": []
    },
    {
      "cell_type": "code",
      "metadata": {
        "id": "yPwgL7k5ty9g"
      },
      "source": [
        "features = spam_dataset[['Lottery', 'Sale']]\n",
        "labels = spam_dataset['Spam']\n",
        "utils.plot_points(features, labels)"
      ],
      "execution_count": null,
      "outputs": []
    },
    {
      "cell_type": "markdown",
      "metadata": {
        "id": "M2lxdleFty9n"
      },
      "source": [
        "# AdaBoost"
      ]
    },
    {
      "cell_type": "code",
      "metadata": {
        "id": "pRRt2Ngity9n"
      },
      "source": [
        "from sklearn.ensemble import AdaBoostClassifier\n",
        "# Set the random_state so that we always get the same results\n",
        "# use adaboost classifier with 6 estimator\n",
        "adaboost_classifier = \n",
        "\n",
        "adaboost_classifier.score(features, labels)"
      ],
      "execution_count": null,
      "outputs": []
    },
    {
      "cell_type": "code",
      "metadata": {
        "id": "QcIVLdwRty9n"
      },
      "source": [
        "utils.plot_model(features, labels, adaboost_classifier)"
      ],
      "execution_count": null,
      "outputs": []
    },
    {
      "cell_type": "code",
      "metadata": {
        "id": "DZo2W7rYty9o"
      },
      "source": [
        "estimators = adaboost_classifier.estimators_\n",
        "for estimator in estimators:\n",
        "    utils.plot_model(features, labels, estimator)\n",
        "    plt.show()"
      ],
      "execution_count": null,
      "outputs": []
    }
  ]
}