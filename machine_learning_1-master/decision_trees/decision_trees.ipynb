{
  "nbformat": 4,
  "nbformat_minor": 0,
  "metadata": {
    "kernelspec": {
      "display_name": "Python 3",
      "language": "python",
      "name": "python3"
    },
    "language_info": {
      "codemirror_mode": {
        "name": "ipython",
        "version": 3
      },
      "file_extension": ".py",
      "mimetype": "text/x-python",
      "name": "python",
      "nbconvert_exporter": "python",
      "pygments_lexer": "ipython3",
      "version": "3.7.6"
    },
    "colab": {
      "name": "Copy of Copy of App_recommendations.ipynb",
      "provenance": [],
      "collapsed_sections": []
    }
  },
  "cells": [
    {
      "cell_type": "markdown",
      "metadata": {
        "id": "Bd-eXorC0NR3"
      },
      "source": [
        "# App dataset with decision trees"
      ]
    },
    {
      "cell_type": "code",
      "metadata": {
        "id": "oWqtHqjZ0XlR"
      },
      "source": [
        "!git clone https://github.com/s7s/machine_learning_1.git\n",
        "%cd  machine_learning_1/decision_trees"
      ],
      "execution_count": null,
      "outputs": []
    },
    {
      "cell_type": "code",
      "metadata": {
        "id": "hxcEPeC40NR5"
      },
      "source": [
        "import pandas as pd\n",
        "import numpy as np\n",
        "from matplotlib import pyplot as plt\n",
        "import utils\n",
        "\n",
        "from sklearn.tree import DecisionTreeClassifier\n",
        "from sklearn.tree import DecisionTreeRegressor\n",
        "import random\n",
        "random.seed(0)"
      ],
      "execution_count": null,
      "outputs": []
    },
    {
      "cell_type": "code",
      "metadata": {
        "id": "tv1VKCkW0NR5"
      },
      "source": [
        "app_dataset = pd.DataFrame({\n",
        "    'Gender': ['Female','Female','Male','Female','Male','Male'],\n",
        "    'Age': [15, 25, 32, 35, 12, 14],\n",
        "    'App': ['Snapchat', 'SheIn', 'Fantasy PL', 'SheIn', 'Snapchat', 'Snapchat']})\n",
        "app_dataset"
      ],
      "execution_count": null,
      "outputs": []
    },
    {
      "cell_type": "markdown",
      "metadata": {
        "id": "IZ4zKFD90NR6"
      },
      "source": [
        "# With age as a categorical feature"
      ]
    },
    {
      "cell_type": "code",
      "metadata": {
        "id": "SbxCXI4-0NR7"
      },
      "source": [
        "app_dataset_one_hot = pd.DataFrame(\n",
        "    {'Gender_Female':[1,1,0,1,0,0],\n",
        "     'Gender_Male':[0,0,1,0,1,1],\n",
        "     'Age_Young':[1,0,0,0,1,1],\n",
        "     'Age_Old':[0,1,1,1,0,0],\n",
        "     'App_Snapchat':[1,0,0,0,1,1],\n",
        "     'App_Fantasy_PL':[0,0,1,0,0,0],\n",
        "     'App_SheIn':[0,1,0,1,0,0]})\n",
        "app_dataset_one_hot"
      ],
      "execution_count": null,
      "outputs": []
    },
    {
      "cell_type": "code",
      "metadata": {
        "id": "u12U7akf0NR7"
      },
      "source": [
        "X = app_dataset_one_hot[['Gender_Female','Gender_Male','Age_Old','Age_Young']]\n",
        "y = app_dataset_one_hot[['App_Snapchat','App_Fantasy_PL','App_SheIn']]"
      ],
      "execution_count": null,
      "outputs": []
    },
    {
      "cell_type": "code",
      "metadata": {
        "id": "avHTGAkZ0NR7"
      },
      "source": [
        "from sklearn.tree import DecisionTreeClassifier\n",
        "## TODO ##\n",
        "# Train a Decision Tree Classifier and print score\n",
        "dt =\n",
        "\n"
      ],
      "execution_count": null,
      "outputs": []
    },
    {
      "cell_type": "code",
      "metadata": {
        "id": "2CH7y14L0NR8"
      },
      "source": [
        "utils.display_tree(dt)"
      ],
      "execution_count": null,
      "outputs": []
    },
    {
      "cell_type": "markdown",
      "metadata": {
        "id": "ppI1Hf7t0NR8"
      },
      "source": [
        "# With age as a numerical feature"
      ]
    },
    {
      "cell_type": "code",
      "metadata": {
        "id": "kmS-YNBJ0NR8"
      },
      "source": [
        "app_dataset = pd.DataFrame({\n",
        "    'Gender_Female':[1,1,0,1,0,0],\n",
        "    'Gender_Male':[0,0,1,0,1,1],\n",
        "    'Age': [15, 25, 32, 35, 12, 14],\n",
        "    'App': ['Snapchat', 'SheIn', 'Fantasy PL', 'SheIn', 'Snapchat', 'Snapchat']})\n",
        "print(app_dataset)"
      ],
      "execution_count": null,
      "outputs": []
    },
    {
      "cell_type": "code",
      "metadata": {
        "id": "KVYVNYDE0NR9"
      },
      "source": [
        "features = app_dataset[['Age','Gender_Female','Gender_Male']]\n",
        "print(features)"
      ],
      "execution_count": null,
      "outputs": []
    },
    {
      "cell_type": "code",
      "metadata": {
        "id": "rXnUqLqV0NR9"
      },
      "source": [
        "labels = app_dataset['App']\n",
        "print(labels)"
      ],
      "execution_count": null,
      "outputs": []
    },
    {
      "cell_type": "code",
      "metadata": {
        "id": "JxQErMLZ0NR9"
      },
      "source": [
        "app_model = DecisionTreeClassifier()\n",
        "app_model.fit(features, labels)\n",
        "app_model.score(features, labels)"
      ],
      "execution_count": null,
      "outputs": []
    },
    {
      "cell_type": "code",
      "metadata": {
        "id": "qFWugGEws2Ba"
      },
      "source": [
        "## TODO ##\n",
        "# predict\n",
        "# A girl aged 13\n",
        "\n",
        "# A woman aged 28\n",
        "\n",
        "# A man aged 34\n"
      ],
      "execution_count": null,
      "outputs": []
    },
    {
      "cell_type": "code",
      "metadata": {
        "id": "EM9kw1s-0NR-"
      },
      "source": [
        "utils.display_tree(app_model)"
      ],
      "execution_count": null,
      "outputs": []
    },
    {
      "cell_type": "markdown",
      "metadata": {
        "id": "sTcHeWzdCNYV"
      },
      "source": [
        "# Decision trees for regression"
      ]
    },
    {
      "cell_type": "code",
      "metadata": {
        "id": "0SkrLvHWCNYa"
      },
      "source": [
        "features = [[10],[20],[30],[40],[50],[60],[70],[80]]\n",
        "labels = [7,5,6,0,1,0,4,3]"
      ],
      "execution_count": null,
      "outputs": []
    },
    {
      "cell_type": "code",
      "metadata": {
        "id": "pCF5dONaCNYa"
      },
      "source": [
        "plt.scatter(features, labels)\n",
        "plt.xlabel(\"Age\")\n",
        "plt.ylabel(\"Days per week\")\n",
        "plt.show()"
      ],
      "execution_count": null,
      "outputs": []
    },
    {
      "cell_type": "code",
      "metadata": {
        "id": "J2f5bd-sCNYb"
      },
      "source": [
        "# use Decision Tree for Regreesion to fit tha data\n",
        "# use depth = 2\n",
        "dt_regressor = "
      ],
      "execution_count": null,
      "outputs": []
    },
    {
      "cell_type": "code",
      "metadata": {
        "id": "G9FXW6CJCNYc"
      },
      "source": [
        "utils.display_tree(dt_regressor)"
      ],
      "execution_count": null,
      "outputs": []
    },
    {
      "cell_type": "code",
      "metadata": {
        "id": "MqTEB7FFCNYc"
      },
      "source": [
        "utils.plot_regressor(dt_regressor, features, labels)"
      ],
      "execution_count": null,
      "outputs": []
    }
  ]
}